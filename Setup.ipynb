{
 "cells": [
  {
   "cell_type": "markdown",
   "id": "35598794",
   "metadata": {},
   "source": [
    "# This will make sure all submodules were pulled, are checked out at master, and pull"
   ]
  },
  {
   "cell_type": "code",
   "execution_count": null,
   "id": "cfb3c3fe",
   "metadata": {},
   "outputs": [],
   "source": [
    "!git submodule foreach --recursive git submodule update --init"
   ]
  },
  {
   "cell_type": "code",
   "execution_count": null,
   "id": "db722c2d",
   "metadata": {},
   "outputs": [],
   "source": [
    "!git submodule foreach --recursive git checkout master"
   ]
  },
  {
   "cell_type": "code",
   "execution_count": null,
   "id": "2bfd707d",
   "metadata": {},
   "outputs": [],
   "source": [
    "!git submodule foreach --recursive git pull"
   ]
  }
 ],
 "metadata": {
  "kernelspec": {
   "display_name": "Python 3",
   "language": "python",
   "name": "python3"
  },
  "language_info": {
   "codemirror_mode": {
    "name": "ipython",
    "version": 3
   },
   "file_extension": ".py",
   "mimetype": "text/x-python",
   "name": "python",
   "nbconvert_exporter": "python",
   "pygments_lexer": "ipython3",
   "version": "3.6.5"
  }
 },
 "nbformat": 4,
 "nbformat_minor": 5
}
